{
 "cells": [
  {
   "cell_type": "markdown",
   "metadata": {},
   "source": [
    "Python Loops: Medical Insurance Estimates vs. Costs Project\n",
    "You are interested in analyzing medical insurance cost data efficiently without writing repetitive code.\n",
    "\n",
    "In this project, you will use your new knowledge of Python loops to iterate through and analyze medical insurance cost data.\n",
    "\n",
    "Let’s get started!"
   ]
  },
  {
   "cell_type": "code",
   "execution_count": null,
   "metadata": {},
   "outputs": [],
   "source": [
    "names = [\"Judith\", \"Abel\", \"Tyson\", \"Martha\", \"Beverley\", \"David\", \"Anabel\"]\n",
    "estimated_insurance_costs = [1000.0, 2000.0, 3000.0, 4000.0, 5000.0, 6000.0, 7000.0]\n",
    "actual_insurance_costs = [1100.0, 2200.0, 3300.0, 4400.0, 5500.0, 6600.0, 7700.0]\n",
    "\n",
    "# Add your code here\n",
    "total_cost = 0\n",
    "total_cost_items = len(actual_insurance_costs)\n",
    "for i in actual_insurance_costs:\n",
    "  total_cost += i\n",
    "\n",
    "avg_costs = total_cost/total_cost_items\n",
    "\n",
    "print(\"Average Insurance Cost: \"+str(avg_costs)+\" dollars.\")\n",
    "\n",
    "name_length = len(names)\n",
    "\n",
    "for i in range(name_length):\n",
    "  name = names[i]\n",
    "  insurance_cost = actual_insurance_costs[i]\n",
    "  if insurance_cost > avg_costs:\n",
    "    print(\"The insurance cost for \"+str(name)+\" is \"+str(insurance_cost)+\" dollars and above average.\" )\n",
    "  elif insurance_cost < avg_costs:\n",
    "     print(\"The insurance cost for \"+str(name)+\" is \"+str(insurance_cost)+\" dollars and below average.\" )\n",
    "  else:\n",
    "     print(\"The insurance cost for \"+str(name)+\" is \"+str(insurance_cost)+\" dollars and equal to average.\" )\n",
    "\n",
    "\n",
    "updated_estimated_costs = [cost*11/10 if cost < 4000 else cost*1000 for cost in estimated_insurance_costs ]\n",
    "\n",
    "print(updated_estimated_costs)\n"
   ]
  }
 ],
 "metadata": {
  "language_info": {
   "name": "python"
  }
 },
 "nbformat": 4,
 "nbformat_minor": 2
}
