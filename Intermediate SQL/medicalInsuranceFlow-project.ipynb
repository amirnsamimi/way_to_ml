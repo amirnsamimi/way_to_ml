{
 "cells": [
  {
   "cell_type": "markdown",
   "metadata": {},
   "source": [
    "Python Control Flow: Medical Insurance Project\n",
    "In this project, you will examine how factors such as age, sex, number of children, and smoking status contribute to medical insurance costs.\n",
    "\n",
    "You will apply your knowledge of Python control flow to write code that gives people advice on how to lower their medical insurance costs.\n",
    "\n",
    "Let’s get started!"
   ]
  },
  {
   "cell_type": "code",
   "execution_count": null,
   "metadata": {},
   "outputs": [],
   "source": [
    "# Add your code here\n",
    " \n",
    "# Function to estimate insurance cost:\n",
    "def estimate_insurance_cost(name, age, sex, num_of_children, smoker):\n",
    "  estimated_cost = 400*age - 128*sex + 425*num_of_children + 10000*smoker - 2500\n",
    "  print(name + \"'s Estimated Insurance Cost: \" + str(estimated_cost) + \" dollars.\")\n",
    "  return estimated_cost\n",
    " \n",
    "# Estimate Keanu's insurance cost\n",
    "keanu_insurance_cost = estimate_insurance_cost(name = 'Keanu', age = 29, sex = 1, num_of_children = 3, smoker = 1)"
   ]
  },
  {
   "cell_type": "markdown",
   "metadata": {},
   "source": []
  },
  {
   "cell_type": "markdown",
   "metadata": {},
   "source": [
    "add a condition for smokers to suggest"
   ]
  },
  {
   "cell_type": "code",
   "execution_count": null,
   "metadata": {},
   "outputs": [],
   "source": [
    "# Add your code here\n",
    "def analyze_smoker(smoker_status):\n",
    "  if  smoker_status == 1:\n",
    "    print(\"To lower your cost, you should consider quitting smoking.\")\n",
    "  else: \n",
    "    print(\"Smoking is not an issue for you.\")\n",
    "\n",
    "\n",
    "# Function to estimate insurance cost:\n",
    "def estimate_insurance_cost(name, age, sex, num_of_children, smoker):\n",
    "  estimated_cost = 400*age - 128*sex + 425*num_of_children + 10000*smoker - 2500\n",
    "  analyze_smoker(smoker);\n",
    "  print(name + \"'s Estimated Insurance Cost: \" + str(estimated_cost) + \" dollars.\")\n",
    "  return estimated_cost\n",
    " \n",
    "# Estimate Keanu's insurance cost\n",
    "keanu_insurance_cost = estimate_insurance_cost(name = 'Keanu', age = 29, sex = 1, num_of_children = 3, smoker = 1)\n",
    "\n",
    "new_insurance_cost = estimate_insurance_cost(\"amir\",29,1,0,0)"
   ]
  }
 ],
 "metadata": {
  "language_info": {
   "name": "python"
  }
 },
 "nbformat": 4,
 "nbformat_minor": 2
}
