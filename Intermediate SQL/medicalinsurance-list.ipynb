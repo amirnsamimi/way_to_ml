{
 "cells": [
  {
   "cell_type": "markdown",
   "metadata": {},
   "source": [
    "Costs Project\n",
    "You are a doctor sorting through medical insurance cost data for some patients.\n",
    "\n",
    "Using your knowledge of Python lists, you will store medical data and see what valuable insights you can gain from that data.\n",
    "\n",
    "Let’s get started!"
   ]
  },
  {
   "cell_type": "code",
   "execution_count": null,
   "metadata": {},
   "outputs": [],
   "source": [
    "names = [\"Mohamed\", \"Sara\", \"Xia\", \"Paul\", \"Valentina\", \"Jide\", \"Aaron\", \"Emily\", \"Nikita\", \"Paul\"]\n",
    "insurance_costs = [13262.0, 4816.0, 6839.0, 5054.0, 14724.0, 5360.0, 7640.0, 6072.0, 2750.0, 12064.0]\n",
    "\n",
    "# Add your code here\n",
    "names.append(\"Priscilla\")\n",
    "insurance_costs.append(8320.0)\n",
    "medical_records = list(zip(insurance_costs,names))\n",
    "print(\"There are \"+ str(len(medical_records)) +\" medical records.\")\n",
    "\n",
    "print(\"Here is the first medical record: \"+str(medical_records[0]))\n",
    "\n",
    "\n",
    "print(medical_records)\n",
    "\n",
    "sorted_records = sorted(medical_records)\n",
    "print(\"Here are the medical records sorted by insurance cost: \"+str(sorted_records))\n",
    "\n",
    "cheapest_three = sorted_records[:3]\n",
    "print(\"Here are the three cheapest insurance costs in our medical records: \"+ str(cheapest_three))\n",
    "\n",
    "priciest_three = sorted_records[-3:]\n",
    "print(\"Here are the three most expensive insurance costs in our medical records: \"+ str(priciest_three))\n",
    "\n",
    "occurrences_paul = names.count(\"Paul\")\n",
    "print(\"There are \"+  str(occurrences_paul) +\" individuals with the name Paul in our medical records.\")"
   ]
  }
 ],
 "metadata": {
  "language_info": {
   "name": "python"
  }
 },
 "nbformat": 4,
 "nbformat_minor": 2
}
